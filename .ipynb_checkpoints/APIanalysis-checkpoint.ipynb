{
 "cells": [
  {
   "cell_type": "code",
   "execution_count": 1,
   "metadata": {},
   "outputs": [],
   "source": [
    "import requests\n",
    "import time\n",
    "import datetime\n",
    "import json\n",
    "import datetime"
   ]
  },
  {
   "cell_type": "code",
   "execution_count": 18,
   "metadata": {},
   "outputs": [],
   "source": [
    "def send_request():\n",
    "\n",
    "    try:\n",
    "        r = requests.get(\n",
    "            url=\"https://api.fortnox.se/3/articles?limit=5&filter=active\",\n",
    "            headers = {\n",
    "                \"Access-Token\":\"873fb692-e1ba-48f7-8b83-4926f0adad98\",\n",
    "                \"Client-Secret\":\"BJlw5IuY1p\",\n",
    "                \"Content-Type\":\"application/json\",\n",
    "                \"Accept\":\"application/json\",\n",
    "            },\n",
    "        )\n",
    "        \n",
    "        return r.content\n",
    "    except requests.exceptions.RequestException as e:\n",
    "        print('HTTP Request failed')\n",
    "#formating and unicode corrections\n",
    "json_data=send_request() \n",
    "json_object = json.loads(json_data)\n",
    "json_formatted_str = json.dumps(json_object, indent=2)\n",
    "encodeddata=json_formatted_str.replace(r\"\\u00e4\", \"ä\").replace(r\"\\u00f6\", \"ö\").replace(r\"\\u00e5\", \"å\")\n",
    "y = json.loads(encodeddata)"
   ]
  },
  {
   "cell_type": "code",
   "execution_count": null,
   "metadata": {},
   "outputs": [],
   "source": []
  },
  {
   "cell_type": "code",
   "execution_count": 17,
   "metadata": {},
   "outputs": [],
   "source": [
    "def one_request(num):\n",
    "\n",
    "    try:\n",
    "        r = requests.get(\n",
    "            url=\"https://api.fortnox.se/3/articles/{}\".format(num),\n",
    "            headers = {\n",
    "                \"Access-Token\":\"873fb692-e1ba-48f7-8b83-4926f0adad98\",\n",
    "                \"Client-Secret\":\"BJlw5IuY1p\",\n",
    "                \"Content-Type\":\"application/json\",\n",
    "                \"Accept\":\"application/json\",\n",
    "            },\n",
    "        )\n",
    "        \n",
    "        return r.content\n",
    "    except requests.exceptions.RequestException as e:\n",
    "        print('HTTP Request failed')"
   ]
  },
  {
   "cell_type": "code",
   "execution_count": 20,
   "metadata": {},
   "outputs": [
    {
     "name": "stdout",
     "output_type": "stream",
     "text": [
      "{'ErrorInformation': {'error': 1, 'message': 'Ogiltig parameter i anropet.', 'code': 2000588}}\n",
      "{'ErrorInformation': {'error': 1, 'message': 'Ogiltig parameter i anropet.', 'code': 2000588}}\n",
      "{'ErrorInformation': {'error': 1, 'message': 'Ogiltig parameter i anropet.', 'code': 2000588}}\n",
      "{'ErrorInformation': {'error': 1, 'message': 'Ogiltig parameter i anropet.', 'code': 2000588}}\n",
      "{'ErrorInformation': {'error': 1, 'message': 'Ogiltig parameter i anropet.', 'code': 2000588}}\n"
     ]
    }
   ],
   "source": [
    "for i in y[\"Articles\"]:\n",
    "    data=one_request(i['ArticleNumber'])\n",
    "    data1 = json.loads(data)\n",
    "    data1_str = json.dumps(data1, indent=2)\n",
    "    encodeddata1=data1_str.replace(r\"\\u00e4\", \"ä\").replace(r\"\\u00f6\", \"ö\").replace(r\"\\u00e5\", \"å\")\n",
    "    x = json.loads(encodeddata1)\n",
    "    print(x)\n",
    "    time.sleep(1)"
   ]
  },
  {
   "cell_type": "code",
   "execution_count": null,
   "metadata": {},
   "outputs": [],
   "source": []
  }
 ],
 "metadata": {
  "kernelspec": {
   "display_name": "Python 3",
   "language": "python",
   "name": "python3"
  },
  "language_info": {
   "codemirror_mode": {
    "name": "ipython",
    "version": 3
   },
   "file_extension": ".py",
   "mimetype": "text/x-python",
   "name": "python",
   "nbconvert_exporter": "python",
   "pygments_lexer": "ipython3",
   "version": "3.8.5"
  }
 },
 "nbformat": 4,
 "nbformat_minor": 4
}
