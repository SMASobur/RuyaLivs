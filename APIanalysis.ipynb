{
 "cells": [
  {
   "cell_type": "code",
   "execution_count": 1,
   "metadata": {},
   "outputs": [],
   "source": [
    "import requests\n",
    "import time\n",
    "import datetime\n",
    "import json\n",
    "import datetime"
   ]
  },
  {
   "cell_type": "code",
   "execution_count": 50,
   "metadata": {},
   "outputs": [],
   "source": [
    "def send_request():\n",
    "\n",
    "    try:\n",
    "        r = requests.get(\n",
    "            url=\"https://api.fortnox.se/3/articles?limit=2&filter=active\",\n",
    "            headers = {\n",
    "                \"Access-Token\":\"873fb692-e1ba-48f7-8b83-4926f0adad98\",\n",
    "                \"Client-Secret\":\"BJlw5IuY1p\",\n",
    "                \"Content-Type\":\"application/json\",\n",
    "                \"Accept\":\"application/json\",\n",
    "            },\n",
    "        )\n",
    "        \n",
    "        return r.content\n",
    "    except requests.exceptions.RequestException as e:\n",
    "        print('HTTP Request failed')\n",
    "#formating and unicode corrections\n",
    "json_data=send_request() \n",
    "y = json.loads(json_data)"
   ]
  },
  {
   "cell_type": "code",
   "execution_count": 51,
   "metadata": {},
   "outputs": [
    {
     "data": {
      "text/plain": [
       "[{'@url': 'https://api.fortnox.se/3/articles/45',\n",
       "  'ArticleNumber': '45',\n",
       "  'Description': 'frakt Växsjö',\n",
       "  'DisposableQuantity': '0',\n",
       "  'EAN': '',\n",
       "  'Housework': False,\n",
       "  'PurchasePrice': '440',\n",
       "  'SalesPrice': '440',\n",
       "  'QuantityInStock': '0',\n",
       "  'ReservedQuantity': '0',\n",
       "  'StockPlace': '',\n",
       "  'StockValue': '0',\n",
       "  'Unit': 'st',\n",
       "  'VAT': '25',\n",
       "  'WebshopArticle': False},\n",
       " {'@url': 'https://api.fortnox.se/3/articles/61',\n",
       "  'ArticleNumber': '61',\n",
       "  'Description': 'Khosh12 mm kikärter 1*25 kg',\n",
       "  'DisposableQuantity': '0',\n",
       "  'EAN': '',\n",
       "  'Housework': False,\n",
       "  'PurchasePrice': '237',\n",
       "  'SalesPrice': '425',\n",
       "  'QuantityInStock': '0',\n",
       "  'ReservedQuantity': '0',\n",
       "  'StockPlace': '',\n",
       "  'StockValue': '0',\n",
       "  'Unit': 'förp',\n",
       "  'VAT': '12',\n",
       "  'WebshopArticle': False}]"
      ]
     },
     "execution_count": 51,
     "metadata": {},
     "output_type": "execute_result"
    }
   ],
   "source": [
    "y[\"Articles\"]"
   ]
  },
  {
   "cell_type": "code",
   "execution_count": 33,
   "metadata": {},
   "outputs": [],
   "source": [
    "def one_request(num):\n",
    "\n",
    "    try:\n",
    "        r = requests.get(\n",
    "            url=\"https://api.fortnox.se/3/articles/{}\".format(num),\n",
    "            headers = {\n",
    "                \"Access-Token\":\"873fb692-e1ba-48f7-8b83-4926f0adad98\",\n",
    "                \"Client-Secret\":\"BJlw5IuY1p\",\n",
    "                \"Content-Type\":\"application/json\",\n",
    "                \"Accept\":\"application/json\",\n",
    "            },\n",
    "        )\n",
    "        \n",
    "        return r.content\n",
    "    except requests.exceptions.RequestException as e:\n",
    "        print('HTTP Request failed')"
   ]
  },
  {
   "cell_type": "code",
   "execution_count": null,
   "metadata": {},
   "outputs": [],
   "source": []
  },
  {
   "cell_type": "code",
   "execution_count": null,
   "metadata": {},
   "outputs": [],
   "source": []
  },
  {
   "cell_type": "code",
   "execution_count": null,
   "metadata": {},
   "outputs": [],
   "source": []
  },
  {
   "cell_type": "code",
   "execution_count": 52,
   "metadata": {},
   "outputs": [
    {
     "name": "stdout",
     "output_type": "stream",
     "text": [
      "Article: 45\n",
      "description: frakt Växsjö\n",
      "netPrice: 440.0\n",
      "price: 440.0\n",
      "qtyPerBox: 13.0\n",
      "Article: 61\n",
      "description: Khosh12 mm kikärter 1*25 kg\n",
      "netPrice: 425.0\n",
      "price: 425.0\n",
      "qtyPerBox: 1.0\n",
      "Data has been successfully written on remote DB\n"
     ]
    }
   ],
   "source": [
    "try:\n",
    "    for i in y[\"Articles\"]:\n",
    "        single_data=one_request(i['ArticleNumber'])\n",
    "        single_data = json.loads(single_data)\n",
    "        single_data= json.dumps(single_data, indent=2)\n",
    "        single_data=single_data.replace(r\"\\u00e4\", \"ä\").replace(r\"\\u00f6\", \"ö\").replace(r\"\\u00e5\", \"å\")\n",
    "        x = json.loads(single_data)\n",
    "        #filter = { \"Article:\": x[\"Article\"][\"ArticleNumber\"] }\n",
    "        print(\"Article:\", x[\"Article\"][\"ArticleNumber\"])\n",
    "        print(\"description:\",x[\"Article\"][\"Description\"])\n",
    "        print(\"netPrice:\", float(x[\"Article\"][\"SalesPrice\"]))\n",
    "        print(\"price:\", float(x[\"Article\"][\"SalesPrice\"]))\n",
    "        print(\"qtyPerBox:\", float(x[\"Article\"][\"ManufacturerArticleNumber\"]))\n",
    "        time.sleep(1)\n",
    "except:\n",
    "    print(\"Something went wrong during writing in database\")\n",
    "\n",
    "finally:\n",
    "    print(\"Data has been successfully written on remote DB\")"
   ]
  },
  {
   "cell_type": "code",
   "execution_count": 35,
   "metadata": {},
   "outputs": [
    {
     "data": {
      "text/plain": [
       "{'@url': 'https://api.fortnox.se/3/articles/2302',\n",
       " 'ArticleNumber': '2302',\n",
       " 'Bulky': False,\n",
       " 'ConstructionAccount': 0,\n",
       " 'Depth': None,\n",
       " 'Description': 'kreditering av vår faktura nr 2302',\n",
       " 'DisposableQuantity': 0,\n",
       " 'EAN': '',\n",
       " 'EUAccount': 3108,\n",
       " 'EUVATAccount': 3106,\n",
       " 'ExportAccount': 3105,\n",
       " 'Height': None,\n",
       " 'Housework': False,\n",
       " 'HouseworkType': None,\n",
       " 'Active': True,\n",
       " 'Manufacturer': None,\n",
       " 'ManufacturerArticleNumber': None,\n",
       " 'Note': '',\n",
       " 'PurchaseAccount': 4000,\n",
       " 'PurchasePrice': 24553.57,\n",
       " 'QuantityInStock': 0,\n",
       " 'ReservedQuantity': 0,\n",
       " 'SalesAccount': 3016,\n",
       " 'StockGoods': False,\n",
       " 'StockPlace': '',\n",
       " 'StockValue': 0,\n",
       " 'StockWarning': None,\n",
       " 'SupplierName': None,\n",
       " 'SupplierNumber': None,\n",
       " 'Type': 'STOCK',\n",
       " 'Unit': 'st',\n",
       " 'VAT': 12,\n",
       " 'WebshopArticle': False,\n",
       " 'Weight': None,\n",
       " 'Width': None,\n",
       " 'Expired': False,\n",
       " 'SalesPrice': 24553.57,\n",
       " 'CostCalculationMethod': None,\n",
       " 'StockAccount': None,\n",
       " 'StockChangeAccount': None,\n",
       " 'DirectCost': None,\n",
       " 'FreightCost': None,\n",
       " 'OtherCost': None,\n",
       " 'DefaultStockPoint': None,\n",
       " 'DefaultStockLocation': None}"
      ]
     },
     "execution_count": 35,
     "metadata": {},
     "output_type": "execute_result"
    }
   ],
   "source": [
    "x[\"Article\"]"
   ]
  },
  {
   "cell_type": "code",
   "execution_count": 39,
   "metadata": {},
   "outputs": [],
   "source": [
    "condition=False"
   ]
  },
  {
   "cell_type": "code",
   "execution_count": 41,
   "metadata": {},
   "outputs": [
    {
     "name": "stdout",
     "output_type": "stream",
     "text": [
      "5.0\n"
     ]
    }
   ],
   "source": [
    "print(2 if condition else 10/2)"
   ]
  },
  {
   "cell_type": "code",
   "execution_count": 45,
   "metadata": {},
   "outputs": [],
   "source": [
    "        document={\n",
    "            \"Article\":x[\"Article\"][\"ArticleNumber\"],\n",
    "            \"productName\":x[\"Article\"][\"Description\"],\n",
    "            \"description\":i['Description'],\n",
    "            \"netPrice\":float(x[\"Article\"][\"SalesPrice\"]),\n",
    "            \"price\":float(x[\"Article\"][\"SalesPrice\"]),\n",
    "            \"offer\":0,\n",
    "            \"category\":\"600866d4ca85dd0017c3bfe1\",\n",
    "            \"isAvailable\":True,\n",
    "            \"qtyPerBox\":int(x[\"Article\"][\"ManufacturerArticleNumber\"]) if x[\"Article\"][\"ManufacturerArticleNumber\"] else 0,\n",
    "            \"thumbnail\":[\"https://firebasestorage.googleapis.com/v0/b/image-server-65bbd.appspot.com/o/restaurant%2Fimage_1611186419211.png?alt=media&token=c387814f-f9b2-4e2b-8afc-875164b43eb0\"]}"
   ]
  },
  {
   "cell_type": "code",
   "execution_count": 47,
   "metadata": {},
   "outputs": [
    {
     "data": {
      "text/plain": [
       "{'Article': '2302',\n",
       " 'productName': 'kreditering av vår faktura nr 2302',\n",
       " 'description': 'kreditering av vår faktura nr 2302',\n",
       " 'netPrice': 24553.57,\n",
       " 'price': 24553.57,\n",
       " 'offer': 0,\n",
       " 'category': '600866d4ca85dd0017c3bfe1',\n",
       " 'isAvailable': True,\n",
       " 'qtyPerBox': 0,\n",
       " 'thumbnail': ['https://firebasestorage.googleapis.com/v0/b/image-server-65bbd.appspot.com/o/restaurant%2Fimage_1611186419211.png?alt=media&token=c387814f-f9b2-4e2b-8afc-875164b43eb0']}"
      ]
     },
     "execution_count": 47,
     "metadata": {},
     "output_type": "execute_result"
    }
   ],
   "source": [
    "document"
   ]
  },
  {
   "cell_type": "code",
   "execution_count": 48,
   "metadata": {},
   "outputs": [
    {
     "data": {
      "text/plain": [
       "'2302'"
      ]
     },
     "execution_count": 48,
     "metadata": {},
     "output_type": "execute_result"
    }
   ],
   "source": [
    "x[\"Article\"][\"ArticleNumber\"]"
   ]
  },
  {
   "cell_type": "code",
   "execution_count": null,
   "metadata": {},
   "outputs": [],
   "source": []
  }
 ],
 "metadata": {
  "kernelspec": {
   "display_name": "Python 3",
   "language": "python",
   "name": "python3"
  },
  "language_info": {
   "codemirror_mode": {
    "name": "ipython",
    "version": 3
   },
   "file_extension": ".py",
   "mimetype": "text/x-python",
   "name": "python",
   "nbconvert_exporter": "python",
   "pygments_lexer": "ipython3",
   "version": "3.8.5"
  }
 },
 "nbformat": 4,
 "nbformat_minor": 4
}
