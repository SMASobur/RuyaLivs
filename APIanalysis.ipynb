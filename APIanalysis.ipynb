{
 "cells": [
  {
   "cell_type": "code",
   "execution_count": 1,
   "metadata": {},
   "outputs": [],
   "source": [
    "import requests\n",
    "import time\n",
    "import datetime\n",
    "import json\n",
    "import datetime"
   ]
  },
  {
   "cell_type": "code",
   "execution_count": 5,
   "metadata": {},
   "outputs": [],
   "source": [
    "def send_request():\n",
    "\n",
    "    try:\n",
    "        r = requests.get(\n",
    "            url=\"https://api.fortnox.se/3/articles?limit=5&filter=active\",\n",
    "            headers = {\n",
    "                \"Access-Token\":\"873fb692-e1ba-48f7-8b83-4926f0adad98\",\n",
    "                \"Client-Secret\":\"BJlw5IuY1p\",\n",
    "                \"Content-Type\":\"application/json\",\n",
    "                \"Accept\":\"application/json\",\n",
    "            },\n",
    "        )\n",
    "        \n",
    "        return r.content\n",
    "    except requests.exceptions.RequestException as e:\n",
    "        print('HTTP Request failed')\n",
    "#formating and unicode corrections\n",
    "json_data=send_request() \n",
    "json_object = json.loads(json_data)\n",
    "json_formatted_str = json.dumps(json_object, indent=2)\n",
    "encodeddata=json_formatted_str.replace(r\"\\u00e4\", \"ä\").replace(r\"\\u00f6\", \"ö\").replace(r\"\\u00e5\", \"å\")\n",
    "y = json.loads(encodeddata)"
   ]
  },
  {
   "cell_type": "code",
   "execution_count": 6,
   "metadata": {},
   "outputs": [
    {
     "data": {
      "text/plain": [
       "5"
      ]
     },
     "execution_count": 6,
     "metadata": {},
     "output_type": "execute_result"
    }
   ],
   "source": [
    "len(y[\"Articles\"])"
   ]
  },
  {
   "cell_type": "code",
   "execution_count": 7,
   "metadata": {},
   "outputs": [
    {
     "data": {
      "text/plain": [
       "{'MetaInformation': {'@TotalResources': 1428,\n",
       "  '@TotalPages': 286,\n",
       "  '@CurrentPage': 1},\n",
       " 'Articles': [{'@url': 'https://api.fortnox.se/3/articles/45',\n",
       "   'ArticleNumber': '45',\n",
       "   'Description': 'frakt Växsjö',\n",
       "   'DisposableQuantity': '0',\n",
       "   'EAN': '10',\n",
       "   'Housework': False,\n",
       "   'PurchasePrice': '440',\n",
       "   'SalesPrice': '440',\n",
       "   'QuantityInStock': '0',\n",
       "   'ReservedQuantity': '0',\n",
       "   'StockPlace': '',\n",
       "   'StockValue': '0',\n",
       "   'Unit': 'st',\n",
       "   'VAT': '25',\n",
       "   'WebshopArticle': False},\n",
       "  {'@url': 'https://api.fortnox.se/3/articles/61',\n",
       "   'ArticleNumber': '61',\n",
       "   'Description': 'Khosh12 mm kikärter 1*25 kg',\n",
       "   'DisposableQuantity': '0',\n",
       "   'EAN': '',\n",
       "   'Housework': False,\n",
       "   'PurchasePrice': '237',\n",
       "   'SalesPrice': '425',\n",
       "   'QuantityInStock': '0',\n",
       "   'ReservedQuantity': '0',\n",
       "   'StockPlace': '',\n",
       "   'StockValue': '0',\n",
       "   'Unit': 'förp',\n",
       "   'VAT': '12',\n",
       "   'WebshopArticle': False},\n",
       "  {'@url': 'https://api.fortnox.se/3/articles/1528',\n",
       "   'ArticleNumber': '1528',\n",
       "   'Description': 'kreditering av  vår faktura nr 1528',\n",
       "   'DisposableQuantity': '0',\n",
       "   'EAN': '',\n",
       "   'Housework': False,\n",
       "   'PurchasePrice': '0',\n",
       "   'SalesPrice': '11500',\n",
       "   'QuantityInStock': '0',\n",
       "   'ReservedQuantity': '0',\n",
       "   'StockPlace': '',\n",
       "   'StockValue': '0',\n",
       "   'Unit': 'st',\n",
       "   'VAT': '12',\n",
       "   'WebshopArticle': False},\n",
       "  {'@url': 'https://api.fortnox.se/3/articles/1968',\n",
       "   'ArticleNumber': '1968',\n",
       "   'Description': 'kreditering av vår faktura nr 1968',\n",
       "   'DisposableQuantity': '0',\n",
       "   'EAN': '',\n",
       "   'Housework': False,\n",
       "   'PurchasePrice': '26462.5',\n",
       "   'SalesPrice': '26462.5',\n",
       "   'QuantityInStock': '0',\n",
       "   'ReservedQuantity': '0',\n",
       "   'StockPlace': '',\n",
       "   'StockValue': '0.0',\n",
       "   'Unit': 'st',\n",
       "   'VAT': '12',\n",
       "   'WebshopArticle': False},\n",
       "  {'@url': 'https://api.fortnox.se/3/articles/1991',\n",
       "   'ArticleNumber': '1991',\n",
       "   'Description': 'kreditering av vår faktura nr 1991',\n",
       "   'DisposableQuantity': '0',\n",
       "   'EAN': '',\n",
       "   'Housework': False,\n",
       "   'PurchasePrice': '8089.28',\n",
       "   'SalesPrice': '8089.28',\n",
       "   'QuantityInStock': '0',\n",
       "   'ReservedQuantity': '0',\n",
       "   'StockPlace': '',\n",
       "   'StockValue': '0.00',\n",
       "   'Unit': 'st',\n",
       "   'VAT': '12',\n",
       "   'WebshopArticle': False}]}"
      ]
     },
     "execution_count": 7,
     "metadata": {},
     "output_type": "execute_result"
    }
   ],
   "source": [
    "y"
   ]
  },
  {
   "cell_type": "code",
   "execution_count": null,
   "metadata": {},
   "outputs": [],
   "source": []
  }
 ],
 "metadata": {
  "kernelspec": {
   "display_name": "Python 3",
   "language": "python",
   "name": "python3"
  },
  "language_info": {
   "codemirror_mode": {
    "name": "ipython",
    "version": 3
   },
   "file_extension": ".py",
   "mimetype": "text/x-python",
   "name": "python",
   "nbconvert_exporter": "python",
   "pygments_lexer": "ipython3",
   "version": "3.8.5"
  }
 },
 "nbformat": 4,
 "nbformat_minor": 4
}
